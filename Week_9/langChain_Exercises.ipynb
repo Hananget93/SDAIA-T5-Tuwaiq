{
  "cells": [
    {
      "cell_type": "markdown",
      "id": "45fbb33b",
      "metadata": {
        "id": "45fbb33b"
      },
      "source": [
        "# LangChain Tutorial Exercises"
      ]
    },
    {
      "cell_type": "markdown",
      "id": "34a0df42",
      "metadata": {
        "id": "34a0df42"
      },
      "source": [
        "\n",
        "In this notebook, you will practice using LangChain to interact with large language models (LLMs),\n",
        "build chains, agents, and utilize memory. Fill in the code blocks with your implementations.\n"
      ]
    },
    {
      "cell_type": "markdown",
      "id": "169dd23c",
      "metadata": {
        "id": "169dd23c"
      },
      "source": [
        "## Exercise 1: Basic LLM Query"
      ]
    },
    {
      "cell_type": "markdown",
      "id": "bf03f4a7",
      "metadata": {
        "id": "bf03f4a7"
      },
      "source": [
        "In this exercise, you will set up a basic interaction with the GROQ LLaMA model using LangChain.\n",
        "\n",
        "1. Initialize the LLM (Use GROQ and chose LLM).\n",
        "2. Create a prompt that asks the LLM to generate a story about a topic.\n",
        "3. Run the LLM chain to retrieve the response.\n",
        "\n",
        "**Steps**:\n",
        "- Import required modules from `langchain`.\n",
        "- Initialize the LLM with your GROQ API key.\n",
        "- Create a prompt template that takes a topic as input.\n",
        "- Create an LLM Chain and run it to get a response.\n",
        "\n",
        "Fill in the code below:\n"
      ]
    },
    {
      "cell_type": "code",
      "source": [
        "%%capture\n",
        "!pip install langchain langchain-community langchain-groq duckduckgo-search geopy requests\n"
      ],
      "metadata": {
        "id": "hWr9bo_ZvK35"
      },
      "id": "hWr9bo_ZvK35",
      "execution_count": 1,
      "outputs": []
    },
    {
      "cell_type": "code",
      "source": [
        "#import requird modeles\n",
        "from langchain_groq import ChatGroq\n",
        "from langchain.prompts import PromptTemplate\n",
        "from langchain import LLMChain"
      ],
      "metadata": {
        "id": "5ZxRuGURwDNu"
      },
      "id": "5ZxRuGURwDNu",
      "execution_count": 2,
      "outputs": []
    },
    {
      "cell_type": "code",
      "source": [
        "groq_api_key =\"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\""
      ],
      "metadata": {
        "id": "8jNtQN0JwQkM"
      },
      "id": "8jNtQN0JwQkM",
      "execution_count": 3,
      "outputs": []
    },
    {
      "cell_type": "code",
      "source": [
        "#Initialize the LLM\n",
        "llm = ChatGroq(\n",
        "    model=\"llama-3.1-8b-instant\",\n",
        "    temperature=0.8,\n",
        "    max_tokens=None,\n",
        "    timeout=None,\n",
        "    max_retries=2,\n",
        "    api_key=groq_api_key\n",
        ")"
      ],
      "metadata": {
        "id": "t59NJmU2wV9k"
      },
      "id": "t59NJmU2wV9k",
      "execution_count": 4,
      "outputs": []
    },
    {
      "cell_type": "code",
      "source": [
        "#Create a prompt template that takes a topic as input.\n",
        "prompt = PromptTemplate(\n",
        "    input_variables=[\"topic\"],\n",
        "    template=\"Write a short story about {topic}.\"\n",
        ")\n",
        ""
      ],
      "metadata": {
        "id": "qSwbtU3bweQJ"
      },
      "id": "qSwbtU3bweQJ",
      "execution_count": 5,
      "outputs": []
    },
    {
      "cell_type": "code",
      "source": [
        "#Create an LLM Chain and run it to get a response.\n",
        "chain = LLMChain(llm=llm, prompt=prompt)\n",
        "\n",
        "# Run the chain with a specific topic\n",
        "response = chain.run(\"a brave knight\")\n",
        "print(response)"
      ],
      "metadata": {
        "colab": {
          "base_uri": "https://localhost:8080/"
        },
        "id": "kMI8Zwbvwcjq",
        "outputId": "ae1a8b71-f714-4173-a20c-1b4824c61749"
      },
      "id": "kMI8Zwbvwcjq",
      "execution_count": 6,
      "outputs": [
        {
          "output_type": "stream",
          "name": "stderr",
          "text": [
            "<ipython-input-6-fec9fbb1e2eb>:2: LangChainDeprecationWarning: The class `LLMChain` was deprecated in LangChain 0.1.17 and will be removed in 1.0. Use RunnableSequence, e.g., `prompt | llm` instead.\n",
            "  chain = LLMChain(llm=llm, prompt=prompt)\n",
            "<ipython-input-6-fec9fbb1e2eb>:5: LangChainDeprecationWarning: The method `Chain.run` was deprecated in langchain 0.1.0 and will be removed in 1.0. Use invoke instead.\n",
            "  response = chain.run(\"a brave knight\")\n"
          ]
        },
        {
          "output_type": "stream",
          "name": "stdout",
          "text": [
            "In the land of Everia, a kingdom of chivalry and honor, Sir Edward, a brave knight, was renowned for his unwavering courage and unrelenting dedication to justice. His shining armor and majestic steed, Galahad, were a sight to behold, and his people looked up to him as a hero.\n",
            "\n",
            "Sir Edward's journey began on a sunny morning, as he set out to vanquish the dark sorcerer, Malakai, who had cast a spell of darkness over the nearby village of Ashwood. The villagers, cowering in fear, begged Sir Edward to deliver them from Malakai's evil grasp.\n",
            "\n",
            "With Galahad by his side, Sir Edward rode through the rolling hills and dense forests, his heart ablaze with determination. As they approached the dark sorcerer's fortress, a chill ran down Sir Edward's spine, but he steeled himself, knowing that his duty was to protect the innocent.\n",
            "\n",
            "As they entered the fortress, a horde of twisted creatures, born from Malakai's dark magic, emerged to bar Sir Edward's path. Undaunted, he charged forward, his sword flashing in the dim light. The battle was fierce, but Sir Edward fought valiantly, his skills honed from years of training and combat.\n",
            "\n",
            "Finally, he faced Malakai himself, a towering figure with eyes that burned with malevolent intent. The sorcerer hurled bolts of dark energy at Sir Edward, but the brave knight dodged and parried each attack with ease. With a mighty cry, Sir Edward launched himself at Malakai, their swords clashing in a flurry of steel and sparks.\n",
            "\n",
            "The outcome was far from certain, but Sir Edward's unyielding spirit and skill ultimately triumphed over Malakai's dark powers. The sorcerer was defeated, and the spell of darkness was lifted from Ashwood.\n",
            "\n",
            "As the villagers emerged from their homes, blinking in the bright sunlight, they cheered Sir Edward's name, their voices echoing across the land. The brave knight had saved the day, and his legend would live on forever.\n",
            "\n",
            "And so, Sir Edward rode back to Everia, his heart full of pride and his spirit renewed. Galahad, sensing his master's triumph, pranced proudly, their bond stronger than ever. For in a world where honor and courage were the greatest virtues, Sir Edward stood tall, a shining example of what it meant to be a true hero.\n"
          ]
        }
      ]
    },
    {
      "cell_type": "markdown",
      "id": "1ff1b3fa",
      "metadata": {
        "id": "1ff1b3fa"
      },
      "source": [
        "## Exercise 2: Building a Conversational Agent"
      ]
    },
    {
      "cell_type": "markdown",
      "id": "4a6a1f26",
      "metadata": {
        "id": "4a6a1f26"
      },
      "source": [
        "\n",
        "In this exercise, you will create a conversational agent that can interact with a user, make decisions,\n",
        "and use external tools like a search tool.\n",
        "\n",
        "1. Define a tool.\n",
        "2. Create an agent that can decide whether to use the tool or interact with the LLM.\n",
        "3. Run the agent with various inputs.\n",
        "\n",
        "**Steps**:\n",
        "- Define the search tool using a function.\n",
        "- Initialize an agent using the tool and the LLM.\n",
        "- Run the agent with sample inputs.\n",
        "\n",
        "Fill in the code below:\n"
      ]
    },
    {
      "cell_type": "code",
      "execution_count": 7,
      "id": "a6e3e8e2",
      "metadata": {
        "id": "a6e3e8e2"
      },
      "outputs": [],
      "source": [
        "# Define the tool:\n",
        "from langchain_community.tools import DuckDuckGoSearchRun\n",
        "\n",
        "search = DuckDuckGoSearchRun()"
      ]
    },
    {
      "cell_type": "code",
      "source": [
        "search.name"
      ],
      "metadata": {
        "colab": {
          "base_uri": "https://localhost:8080/",
          "height": 36
        },
        "id": "SpSQRxaCxWD2",
        "outputId": "5e570513-a38c-450b-e034-07e6dd39a37a"
      },
      "id": "SpSQRxaCxWD2",
      "execution_count": 8,
      "outputs": [
        {
          "output_type": "execute_result",
          "data": {
            "text/plain": [
              "'duckduckgo_search'"
            ],
            "application/vnd.google.colaboratory.intrinsic+json": {
              "type": "string"
            }
          },
          "metadata": {},
          "execution_count": 8
        }
      ]
    },
    {
      "cell_type": "code",
      "source": [
        "search.description\n"
      ],
      "metadata": {
        "colab": {
          "base_uri": "https://localhost:8080/",
          "height": 36
        },
        "id": "syUfRWs7xtOZ",
        "outputId": "5d2828af-08da-4817-a235-c096a7d042f4"
      },
      "id": "syUfRWs7xtOZ",
      "execution_count": 9,
      "outputs": [
        {
          "output_type": "execute_result",
          "data": {
            "text/plain": [
              "'A wrapper around DuckDuckGo Search. Useful for when you need to answer questions about current events. Input should be a search query.'"
            ],
            "application/vnd.google.colaboratory.intrinsic+json": {
              "type": "string"
            }
          },
          "metadata": {},
          "execution_count": 9
        }
      ]
    },
    {
      "cell_type": "code",
      "source": [
        "search.args\n"
      ],
      "metadata": {
        "colab": {
          "base_uri": "https://localhost:8080/"
        },
        "id": "5CCaRNhIxyfr",
        "outputId": "1e935029-9ae4-4d81-d395-a4fcc3e868c4"
      },
      "id": "5CCaRNhIxyfr",
      "execution_count": 10,
      "outputs": [
        {
          "output_type": "execute_result",
          "data": {
            "text/plain": [
              "{'query': {'description': 'search query to look up',\n",
              "  'title': 'Query',\n",
              "  'type': 'string'}}"
            ]
          },
          "metadata": {},
          "execution_count": 10
        }
      ]
    },
    {
      "cell_type": "code",
      "source": [
        "search.invoke({\"query\": \"What is the capital of France?\"})"
      ],
      "metadata": {
        "colab": {
          "base_uri": "https://localhost:8080/",
          "height": 123
        },
        "id": "0kz6LlCCxzrI",
        "outputId": "326b10b6-60a9-42f4-8177-a67c0c22dfa4"
      },
      "id": "0kz6LlCCxzrI",
      "execution_count": 11,
      "outputs": [
        {
          "output_type": "execute_result",
          "data": {
            "text/plain": [
              "\"Paris is the capital of France, located in the north-central part of the country along the Seine River. Learn about its geography, culture, landmarks, and role in French history and politics. France is a country of northwestern Europe with a rich and influential culture and history. Its capital is Paris, one of the world's preeminent cultural and commercial centres. Paris Overview, the capital of France, is esteemed by and large for its everlasting classiness, social excess, and famous achievements. France is home to world-famous attractions like the Eiffel Tower, the Eiffel Pinnacle, the Louver Gallery, and Notre-Lady Church. Paris is a worldwide community local area for craftsmanship, style, and gastronomy. The Seine is navigable from deep in the heart of France, past Paris and all the way north to the English Channel, and from there you can reach the the Atlantic. ... is a wonderfully satisfying way to experience Paris. While there, admire the impressive church of Saint-Sulpice, the capital's second-largest (after Notre-Dame), built over the ... The centre of the capital also houses many businesses, as do numerous other towns in Hauts-de-Seine and the rest of the Île-de-France region. In addition, Paris is one of the world's most popular sites for international business conferences. It has several major modern convention centres, notably the Palais des Congrès at the Maillot Gate ...\""
            ],
            "application/vnd.google.colaboratory.intrinsic+json": {
              "type": "string"
            }
          },
          "metadata": {},
          "execution_count": 11
        }
      ]
    },
    {
      "cell_type": "code",
      "source": [
        "search.invoke({\"query\": \"What is the weather in New York?\"})"
      ],
      "metadata": {
        "colab": {
          "base_uri": "https://localhost:8080/",
          "height": 105
        },
        "id": "tvUmJ-_EyPxm",
        "outputId": "4015e548-b598-409b-80b3-720e1d6520fc"
      },
      "id": "tvUmJ-_EyPxm",
      "execution_count": 12,
      "outputs": [
        {
          "output_type": "execute_result",
          "data": {
            "text/plain": [
              "'Register Now For The 9th Tri-State Weather Conference Held At Western Connecticut State University on 9/21/24! Current conditions at New York City, Central Park (KNYC) Lat: 40.78°NLon: 73.97°WElev: 154ft. Fair. 75°F. 24°C. Humidity: 36%: Wind Speed: Vrbl 5 mph: Barometer: 30.30 in (1025.0 mb) Dewpoint: 46°F (8°C) New York Extended Forecast with high and low temperatures. °F. Last 2 weeks of weather After 10 consecutive days without rain, NYC and its suburbs are expecting showers in the weather forecast today. Get the current and future weather conditions for New York City, Central Park from the official source. See the temperature, humidity, wind speed, chance of rain, and more for today and the next seven days. Want to know what the weather is now? Check out our current live radar and weather forecasts for New York, New York to help plan your day'"
            ],
            "application/vnd.google.colaboratory.intrinsic+json": {
              "type": "string"
            }
          },
          "metadata": {},
          "execution_count": 12
        }
      ]
    },
    {
      "cell_type": "code",
      "source": [
        "from langchain.agents import initialize_agent, AgentType\n",
        "tools = [search]\n",
        "\n",
        "# Initialize the agent\n",
        "agent = initialize_agent(\n",
        "    tools=tools,\n",
        "    llm=llm,\n",
        "    agent_type=AgentType.ZERO_SHOT_REACT_DESCRIPTION\n",
        ")"
      ],
      "metadata": {
        "colab": {
          "base_uri": "https://localhost:8080/"
        },
        "id": "XR7u82iwyZQW",
        "outputId": "118c05ee-9eb1-4b8f-ba49-018a8d5ee100"
      },
      "id": "XR7u82iwyZQW",
      "execution_count": 13,
      "outputs": [
        {
          "output_type": "stream",
          "name": "stderr",
          "text": [
            "<ipython-input-13-0e06bb67d42e>:5: LangChainDeprecationWarning: The function `initialize_agent` was deprecated in LangChain 0.1.0 and will be removed in 1.0. Use Use new agent constructor methods like create_react_agent, create_json_agent, create_structured_chat_agent, etc. instead.\n",
            "  agent = initialize_agent(\n"
          ]
        }
      ]
    },
    {
      "cell_type": "code",
      "source": [
        "# Run the agent\n",
        "response1 = agent.run(\"find information about icekream market in riyadh\")\n",
        "response2 = agent.run(\"find information about allam ?\")\n",
        "\n",
        "# Print the responses\n",
        "print(\"Response 1:\", response1)\n",
        "print(\"Response 2:\", response2)"
      ],
      "metadata": {
        "colab": {
          "base_uri": "https://localhost:8080/"
        },
        "id": "Vfq4V5goyjEm",
        "outputId": "edeccac9-ea9a-4de2-80a8-e2705b6c0e57"
      },
      "id": "Vfq4V5goyjEm",
      "execution_count": 14,
      "outputs": [
        {
          "output_type": "stream",
          "name": "stdout",
          "text": [
            "Response 1: Agent stopped due to iteration limit or time limit.\n",
            "Response 2: ALLaM is an open-source Arabic Large Language Model (LLM) developed by the Saudi Data and Artificial Intelligence Authority (SDAIA) and hosted on IBM's Watsonx enterprise AI and data platform. It allows users to speak to it in various Saudi dialects and receive a response in formal Arabic, and it is available on prominent platforms such as Microsoft and IBM. The model is pre-trained on a total of 3 trillion tokens in Arabic and English, including the tokens seen from its initialization.\n"
          ]
        }
      ]
    },
    {
      "cell_type": "markdown",
      "id": "3cf94d2f",
      "metadata": {
        "id": "3cf94d2f"
      },
      "source": [
        "## Exercise 3: Using LLM as Memory"
      ]
    },
    {
      "cell_type": "markdown",
      "id": "53ff48d9",
      "metadata": {
        "id": "53ff48d9"
      },
      "source": [
        "\n",
        "In this exercise, you will use an LLM to summarize and retain information from conversations.\n",
        "\n",
        "1. Set up LLM-based memory.\n",
        "2. Create a conversation with the LLM and memory.\n",
        "3. Ask follow-up questions using memory to retrieve past context.\n",
        "\n",
        "**Steps**:\n",
        "- Initialize summarization-based memory.\n",
        "- Run a few queries and retrieve responses.\n",
        "- Ask follow-up questions that reference previous interactions.\n",
        "\n",
        "Fill in the code below:\n"
      ]
    },
    {
      "cell_type": "code",
      "execution_count": 15,
      "id": "796557b9",
      "metadata": {
        "id": "796557b9"
      },
      "outputs": [],
      "source": [
        "from langchain.memory import ConversationSummaryMemory\n",
        "from langchain import ConversationChain\n",
        "from langchain_groq import ChatGroq\n",
        ""
      ]
    },
    {
      "cell_type": "code",
      "source": [
        "\n",
        "# Initialize summarization-based memory\n",
        "memory = ConversationSummaryMemory(llm=llm)\n",
        "conversation_chain = ConversationChain(\n",
        "    llm=llm,\n",
        "    memory=memory\n",
        ")\n",
        ""
      ],
      "metadata": {
        "colab": {
          "base_uri": "https://localhost:8080/"
        },
        "id": "nMpMkLt_0qJ-",
        "outputId": "54ffae51-0d8b-450b-b77f-8ec5db11813d"
      },
      "id": "nMpMkLt_0qJ-",
      "execution_count": 16,
      "outputs": [
        {
          "output_type": "stream",
          "name": "stderr",
          "text": [
            "<ipython-input-16-a8c3011bc50e>:3: LangChainDeprecationWarning: The class `ConversationChain` was deprecated in LangChain 0.2.7 and will be removed in 1.0. Use RunnableWithMessageHistory: https://python.langchain.com/v0.2/api_reference/core/runnables/langchain_core.runnables.history.RunnableWithMessageHistory.html instead.\n",
            "  conversation_chain = ConversationChain(\n"
          ]
        }
      ]
    },
    {
      "cell_type": "code",
      "source": [
        "response_1 = conversation_chain.run(\"What is the capital of France?\")\n",
        "response_2 = conversation_chain.run(\"From the previous conversations.What is the coldest month in New York?\")\n",
        "print(\"response 1:\", response_1)\n",
        "print(\"response 2:\", response_2)"
      ],
      "metadata": {
        "colab": {
          "base_uri": "https://localhost:8080/"
        },
        "id": "9L2yM_Lo1HLN",
        "outputId": "8ae7d9e7-4715-45fa-f5c8-33dbc256457a"
      },
      "id": "9L2yM_Lo1HLN",
      "execution_count": 21,
      "outputs": [
        {
          "output_type": "stream",
          "name": "stdout",
          "text": [
            "response 1: The capital of France is Paris, but I'd be happy to share more information about this beautiful city. Located in the northern-central part of France, along the River Seine, Paris is known as the 'City of Light.' It's a global center for art, fashion, music, and culture, and is famous for its stunning architecture, historic landmarks, and world-renowned museums.\n",
            "\n",
            "Some of Paris' most famous landmarks include the Eiffel Tower, Notre-Dame Cathedral, the Louvre Museum, and the Arc de Triomphe. The Eiffel Tower, built for the 1889 World's Fair, is an iconic symbol of Paris and France, standing at an impressive 1,063 feet (324 meters) tall.\n",
            "\n",
            "Paris has also played a significant role in history, particularly during the French Revolution. Many famous artists, writers, and intellectuals, such as Claude Monet, Pierre-Auguste Renoir, and Émile Zola, have called Paris home.\n",
            "\n",
            "If you're interested in learning more about Paris' history, art, or culture, I'd be happy to provide more information or recommend some great resources to explore.\n",
            "response 2: January is the coldest month in New York. This is primarily due to its proximity to the North Atlantic Ocean, which brings cold air masses from Canada, significantly affecting the city's climate. \n",
            "\n",
            "January's average temperatures are around 25°F (-4°C), with even lower temperatures often recorded at night. The average low temperature in January is approximately 17.3°F (-8°C) and the average high temperature is around 34.4°F (1.3°C). \n",
            "\n",
            "The city's coastal location has a moderating effect on its climate, with the influence of the Atlantic Ocean helping to regulate temperatures. However, the Labrador Current, which brings cold Arctic water to the region, can also have a significant cooling effect during the winter months.\n",
            "\n",
            "If you'd like to know more about New York's climate or the specifics of January's weather patterns, I'd be happy to provide further information.\n"
          ]
        }
      ]
    },
    {
      "cell_type": "markdown",
      "id": "630fe2fb",
      "metadata": {
        "id": "630fe2fb"
      },
      "source": [
        "## Exercise 4: Combining Tools and Memory"
      ]
    },
    {
      "cell_type": "markdown",
      "id": "17dba76c",
      "metadata": {
        "id": "17dba76c"
      },
      "source": [
        "\n",
        "In this final exercise, you will build an intelligent agent that can use both tools (like an API) and memory.\n",
        "\n",
        "1. Define an external tool (like a weather API).\n",
        "2. Set up an agent that uses both the tool and LLM memory.\n",
        "3. Interact with the agent, combining memory and external data.\n",
        "\n",
        "**Steps**:\n",
        "- Define a weather API tool (mock or real API).\n",
        "- Initialize the agent with memory and the tool.\n",
        "- Run the agent with inputs, and check how it uses both memory and tools.\n",
        "\n",
        "Fill in the code below:\n"
      ]
    },
    {
      "cell_type": "code",
      "execution_count": null,
      "id": "5e11ad68",
      "metadata": {
        "id": "5e11ad68"
      },
      "outputs": [],
      "source": []
    }
  ],
  "metadata": {
    "language_info": {
      "name": "python"
    },
    "colab": {
      "provenance": []
    },
    "kernelspec": {
      "name": "python3",
      "display_name": "Python 3"
    }
  },
  "nbformat": 4,
  "nbformat_minor": 5
}